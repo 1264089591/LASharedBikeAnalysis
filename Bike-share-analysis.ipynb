{
 "cells": [
  {
   "cell_type": "markdown",
   "metadata": {},
   "source": [
    "# 读取数据集😄"
   ]
  },
  {
   "cell_type": "code",
   "execution_count": 2,
   "metadata": {},
   "outputs": [],
   "source": [
    "import pandas as pd\n",
    "import warnings\n",
    "\n",
    "warnings.filterwarnings('ignore')"
   ]
  },
  {
   "cell_type": "code",
   "execution_count": 3,
   "metadata": {},
   "outputs": [],
   "source": [
    "data = pd.read_csv('./dataset/metro-bike-share-trip-data.csv')"
   ]
  },
  {
   "cell_type": "code",
   "execution_count": 4,
   "metadata": {
    "scrolled": false
   },
   "outputs": [
    {
     "data": {
      "text/html": [
       "<div>\n",
       "<style scoped>\n",
       "    .dataframe tbody tr th:only-of-type {\n",
       "        vertical-align: middle;\n",
       "    }\n",
       "\n",
       "    .dataframe tbody tr th {\n",
       "        vertical-align: top;\n",
       "    }\n",
       "\n",
       "    .dataframe thead th {\n",
       "        text-align: right;\n",
       "    }\n",
       "</style>\n",
       "<table border=\"1\" class=\"dataframe\">\n",
       "  <thead>\n",
       "    <tr style=\"text-align: right;\">\n",
       "      <th></th>\n",
       "      <th>Trip ID</th>\n",
       "      <th>Duration</th>\n",
       "      <th>Start Time</th>\n",
       "      <th>End Time</th>\n",
       "      <th>Starting Station ID</th>\n",
       "      <th>Starting Station Latitude</th>\n",
       "      <th>Starting Station Longitude</th>\n",
       "      <th>Ending Station ID</th>\n",
       "      <th>Ending Station Latitude</th>\n",
       "      <th>Ending Station Longitude</th>\n",
       "      <th>Bike ID</th>\n",
       "      <th>Plan Duration</th>\n",
       "      <th>Trip Route Category</th>\n",
       "      <th>Passholder Type</th>\n",
       "      <th>Starting Lat-Long</th>\n",
       "      <th>Ending Lat-Long</th>\n",
       "    </tr>\n",
       "  </thead>\n",
       "  <tbody>\n",
       "    <tr>\n",
       "      <th>0</th>\n",
       "      <td>1912818</td>\n",
       "      <td>180</td>\n",
       "      <td>2016-07-07T04:17:00</td>\n",
       "      <td>2016-07-07T04:20:00</td>\n",
       "      <td>3014.0</td>\n",
       "      <td>34.05661</td>\n",
       "      <td>-118.23721</td>\n",
       "      <td>3014.0</td>\n",
       "      <td>34.05661</td>\n",
       "      <td>-118.23721</td>\n",
       "      <td>6281.0</td>\n",
       "      <td>30.0</td>\n",
       "      <td>Round Trip</td>\n",
       "      <td>Monthly Pass</td>\n",
       "      <td>{'longitude': '-118.23721', 'latitude': '34.05...</td>\n",
       "      <td>{'longitude': '-118.23721', 'latitude': '34.05...</td>\n",
       "    </tr>\n",
       "  </tbody>\n",
       "</table>\n",
       "</div>"
      ],
      "text/plain": [
       "   Trip ID  Duration           Start Time             End Time  \\\n",
       "0  1912818       180  2016-07-07T04:17:00  2016-07-07T04:20:00   \n",
       "\n",
       "   Starting Station ID  Starting Station Latitude  Starting Station Longitude  \\\n",
       "0               3014.0                   34.05661                  -118.23721   \n",
       "\n",
       "   Ending Station ID  Ending Station Latitude  Ending Station Longitude  \\\n",
       "0             3014.0                 34.05661                -118.23721   \n",
       "\n",
       "   Bike ID  Plan Duration Trip Route Category Passholder Type  \\\n",
       "0   6281.0           30.0          Round Trip    Monthly Pass   \n",
       "\n",
       "                                   Starting Lat-Long  \\\n",
       "0  {'longitude': '-118.23721', 'latitude': '34.05...   \n",
       "\n",
       "                                     Ending Lat-Long  \n",
       "0  {'longitude': '-118.23721', 'latitude': '34.05...  "
      ]
     },
     "execution_count": 4,
     "metadata": {},
     "output_type": "execute_result"
    }
   ],
   "source": [
    "data.head(1)"
   ]
  },
  {
   "cell_type": "code",
   "execution_count": 5,
   "metadata": {},
   "outputs": [
    {
     "data": {
      "text/plain": [
       "(132427, 16)"
      ]
     },
     "execution_count": 5,
     "metadata": {},
     "output_type": "execute_result"
    }
   ],
   "source": [
    "data.shape"
   ]
  },
  {
   "cell_type": "markdown",
   "metadata": {},
   "source": [
    "---"
   ]
  },
  {
   "cell_type": "markdown",
   "metadata": {},
   "source": [
    "# 挑选需要分析的列(Select necessary Columns)😥"
   ]
  },
  {
   "cell_type": "markdown",
   "metadata": {},
   "source": [
    "### station_info"
   ]
  },
  {
   "cell_type": "code",
   "execution_count": 10,
   "metadata": {},
   "outputs": [
    {
     "data": {
      "text/plain": "   Starting Station ID  Starting Station Latitude  Starting Station Longitude  \\\n0               3014.0                  34.056610                  -118.23721   \n1               3014.0                  34.056610                  -118.23721   \n2               3016.0                  34.052898                  -118.24156   \n3               3016.0                  34.052898                  -118.24156   \n4               3032.0                  34.049889                  -118.25588   \n\n   Ending Station ID  Ending Station Latitude  Ending Station Longitude  \n0             3014.0                34.056610                -118.23721  \n1             3014.0                34.056610                -118.23721  \n2             3016.0                34.052898                -118.24156  \n3             3016.0                34.052898                -118.24156  \n4             3032.0                34.049889                -118.25588  ",
      "text/html": "<div>\n<style scoped>\n    .dataframe tbody tr th:only-of-type {\n        vertical-align: middle;\n    }\n\n    .dataframe tbody tr th {\n        vertical-align: top;\n    }\n\n    .dataframe thead th {\n        text-align: right;\n    }\n</style>\n<table border=\"1\" class=\"dataframe\">\n  <thead>\n    <tr style=\"text-align: right;\">\n      <th></th>\n      <th>Starting Station ID</th>\n      <th>Starting Station Latitude</th>\n      <th>Starting Station Longitude</th>\n      <th>Ending Station ID</th>\n      <th>Ending Station Latitude</th>\n      <th>Ending Station Longitude</th>\n    </tr>\n  </thead>\n  <tbody>\n    <tr>\n      <th>0</th>\n      <td>3014.0</td>\n      <td>34.056610</td>\n      <td>-118.23721</td>\n      <td>3014.0</td>\n      <td>34.056610</td>\n      <td>-118.23721</td>\n    </tr>\n    <tr>\n      <th>1</th>\n      <td>3014.0</td>\n      <td>34.056610</td>\n      <td>-118.23721</td>\n      <td>3014.0</td>\n      <td>34.056610</td>\n      <td>-118.23721</td>\n    </tr>\n    <tr>\n      <th>2</th>\n      <td>3016.0</td>\n      <td>34.052898</td>\n      <td>-118.24156</td>\n      <td>3016.0</td>\n      <td>34.052898</td>\n      <td>-118.24156</td>\n    </tr>\n    <tr>\n      <th>3</th>\n      <td>3016.0</td>\n      <td>34.052898</td>\n      <td>-118.24156</td>\n      <td>3016.0</td>\n      <td>34.052898</td>\n      <td>-118.24156</td>\n    </tr>\n    <tr>\n      <th>4</th>\n      <td>3032.0</td>\n      <td>34.049889</td>\n      <td>-118.25588</td>\n      <td>3032.0</td>\n      <td>34.049889</td>\n      <td>-118.25588</td>\n    </tr>\n  </tbody>\n</table>\n</div>"
     },
     "execution_count": 10,
     "metadata": {},
     "output_type": "execute_result"
    }
   ],
   "source": [
    "station_info = data[['Starting Station ID','Starting Station Latitude','Starting Station Longitude','Ending Station ID','Ending Station Latitude','Ending Station Longitude']]\n",
    "station_info.head()"
   ]
  },
  {
   "cell_type": "code",
   "execution_count": 11,
   "metadata": {},
   "outputs": [],
   "source": [
    "start_station = station_info[['Starting Station ID','Starting Station Longitude','Starting Station Latitude']]\n",
    "#start_station.head()"
   ]
  },
  {
   "cell_type": "code",
   "execution_count": 12,
   "metadata": {},
   "outputs": [],
   "source": [
    "end_station = station_info[['Ending Station ID','Ending Station Longitude','Ending Station Latitude']]\n",
    "#end_station.head()"
   ]
  },
  {
   "cell_type": "markdown",
   "metadata": {},
   "source": [
    "### bike_info"
   ]
  },
  {
   "cell_type": "code",
   "execution_count": 13,
   "metadata": {},
   "outputs": [
    {
     "data": {
      "text/plain": "   Duration           Start Time             End Time Trip Route Category  \\\n0       180  2016-07-07T04:17:00  2016-07-07T04:20:00          Round Trip   \n1      1980  2016-07-07T06:00:00  2016-07-07T06:33:00          Round Trip   \n2       300  2016-07-07T10:32:00  2016-07-07T10:37:00          Round Trip   \n3     10860  2016-07-07T10:37:00  2016-07-07T13:38:00          Round Trip   \n4       420  2016-07-07T12:51:00  2016-07-07T12:58:00          Round Trip   \n\n   Plan Duration Passholder Type  \n0           30.0    Monthly Pass  \n1           30.0    Monthly Pass  \n2          365.0       Flex Pass  \n3          365.0       Flex Pass  \n4            0.0         Walk-up  ",
      "text/html": "<div>\n<style scoped>\n    .dataframe tbody tr th:only-of-type {\n        vertical-align: middle;\n    }\n\n    .dataframe tbody tr th {\n        vertical-align: top;\n    }\n\n    .dataframe thead th {\n        text-align: right;\n    }\n</style>\n<table border=\"1\" class=\"dataframe\">\n  <thead>\n    <tr style=\"text-align: right;\">\n      <th></th>\n      <th>Duration</th>\n      <th>Start Time</th>\n      <th>End Time</th>\n      <th>Trip Route Category</th>\n      <th>Plan Duration</th>\n      <th>Passholder Type</th>\n    </tr>\n  </thead>\n  <tbody>\n    <tr>\n      <th>0</th>\n      <td>180</td>\n      <td>2016-07-07T04:17:00</td>\n      <td>2016-07-07T04:20:00</td>\n      <td>Round Trip</td>\n      <td>30.0</td>\n      <td>Monthly Pass</td>\n    </tr>\n    <tr>\n      <th>1</th>\n      <td>1980</td>\n      <td>2016-07-07T06:00:00</td>\n      <td>2016-07-07T06:33:00</td>\n      <td>Round Trip</td>\n      <td>30.0</td>\n      <td>Monthly Pass</td>\n    </tr>\n    <tr>\n      <th>2</th>\n      <td>300</td>\n      <td>2016-07-07T10:32:00</td>\n      <td>2016-07-07T10:37:00</td>\n      <td>Round Trip</td>\n      <td>365.0</td>\n      <td>Flex Pass</td>\n    </tr>\n    <tr>\n      <th>3</th>\n      <td>10860</td>\n      <td>2016-07-07T10:37:00</td>\n      <td>2016-07-07T13:38:00</td>\n      <td>Round Trip</td>\n      <td>365.0</td>\n      <td>Flex Pass</td>\n    </tr>\n    <tr>\n      <th>4</th>\n      <td>420</td>\n      <td>2016-07-07T12:51:00</td>\n      <td>2016-07-07T12:58:00</td>\n      <td>Round Trip</td>\n      <td>0.0</td>\n      <td>Walk-up</td>\n    </tr>\n  </tbody>\n</table>\n</div>"
     },
     "execution_count": 13,
     "metadata": {},
     "output_type": "execute_result"
    }
   ],
   "source": [
    "bike_info = data[['Duration','Start Time','End Time','Trip Route Category','Plan Duration','Passholder Type']]\n",
    "bike_info.head()"
   ]
  },
  {
   "cell_type": "code",
   "execution_count": 14,
   "metadata": {
    "scrolled": true
   },
   "outputs": [
    {
     "data": {
      "text/plain": "Monthly Pass    81304\nWalk-up         41224\nFlex Pass        9517\nStaff Annual      382\nName: Passholder Type, dtype: int64"
     },
     "execution_count": 14,
     "metadata": {},
     "output_type": "execute_result"
    }
   ],
   "source": [
    "data['Passholder Type'].value_counts()"
   ]
  },
  {
   "cell_type": "markdown",
   "metadata": {},
   "source": [
    "### trip_info"
   ]
  },
  {
   "cell_type": "code",
   "execution_count": 15,
   "metadata": {},
   "outputs": [
    {
     "data": {
      "text/plain": "   Duration           Start Time             End Time  Starting Station ID  \\\n0       180  2016-07-07T04:17:00  2016-07-07T04:20:00               3014.0   \n1      1980  2016-07-07T06:00:00  2016-07-07T06:33:00               3014.0   \n2       300  2016-07-07T10:32:00  2016-07-07T10:37:00               3016.0   \n3     10860  2016-07-07T10:37:00  2016-07-07T13:38:00               3016.0   \n4       420  2016-07-07T12:51:00  2016-07-07T12:58:00               3032.0   \n\n   Ending Station ID Trip Route Category  Plan Duration Passholder Type  \n0             3014.0          Round Trip           30.0    Monthly Pass  \n1             3014.0          Round Trip           30.0    Monthly Pass  \n2             3016.0          Round Trip          365.0       Flex Pass  \n3             3016.0          Round Trip          365.0       Flex Pass  \n4             3032.0          Round Trip            0.0         Walk-up  ",
      "text/html": "<div>\n<style scoped>\n    .dataframe tbody tr th:only-of-type {\n        vertical-align: middle;\n    }\n\n    .dataframe tbody tr th {\n        vertical-align: top;\n    }\n\n    .dataframe thead th {\n        text-align: right;\n    }\n</style>\n<table border=\"1\" class=\"dataframe\">\n  <thead>\n    <tr style=\"text-align: right;\">\n      <th></th>\n      <th>Duration</th>\n      <th>Start Time</th>\n      <th>End Time</th>\n      <th>Starting Station ID</th>\n      <th>Ending Station ID</th>\n      <th>Trip Route Category</th>\n      <th>Plan Duration</th>\n      <th>Passholder Type</th>\n    </tr>\n  </thead>\n  <tbody>\n    <tr>\n      <th>0</th>\n      <td>180</td>\n      <td>2016-07-07T04:17:00</td>\n      <td>2016-07-07T04:20:00</td>\n      <td>3014.0</td>\n      <td>3014.0</td>\n      <td>Round Trip</td>\n      <td>30.0</td>\n      <td>Monthly Pass</td>\n    </tr>\n    <tr>\n      <th>1</th>\n      <td>1980</td>\n      <td>2016-07-07T06:00:00</td>\n      <td>2016-07-07T06:33:00</td>\n      <td>3014.0</td>\n      <td>3014.0</td>\n      <td>Round Trip</td>\n      <td>30.0</td>\n      <td>Monthly Pass</td>\n    </tr>\n    <tr>\n      <th>2</th>\n      <td>300</td>\n      <td>2016-07-07T10:32:00</td>\n      <td>2016-07-07T10:37:00</td>\n      <td>3016.0</td>\n      <td>3016.0</td>\n      <td>Round Trip</td>\n      <td>365.0</td>\n      <td>Flex Pass</td>\n    </tr>\n    <tr>\n      <th>3</th>\n      <td>10860</td>\n      <td>2016-07-07T10:37:00</td>\n      <td>2016-07-07T13:38:00</td>\n      <td>3016.0</td>\n      <td>3016.0</td>\n      <td>Round Trip</td>\n      <td>365.0</td>\n      <td>Flex Pass</td>\n    </tr>\n    <tr>\n      <th>4</th>\n      <td>420</td>\n      <td>2016-07-07T12:51:00</td>\n      <td>2016-07-07T12:58:00</td>\n      <td>3032.0</td>\n      <td>3032.0</td>\n      <td>Round Trip</td>\n      <td>0.0</td>\n      <td>Walk-up</td>\n    </tr>\n  </tbody>\n</table>\n</div>"
     },
     "execution_count": 15,
     "metadata": {},
     "output_type": "execute_result"
    }
   ],
   "source": [
    "trip_info = data[['Duration','Start Time','End Time','Starting Station ID','Ending Station ID','Trip Route Category','Plan Duration','Passholder Type']]\n",
    "trip_info.head()"
   ]
  },
  {
   "cell_type": "markdown",
   "metadata": {},
   "source": [
    "---"
   ]
  },
  {
   "cell_type": "markdown",
   "metadata": {},
   "source": [
    "## discover station info"
   ]
  },
  {
   "cell_type": "code",
   "execution_count": 16,
   "metadata": {},
   "outputs": [],
   "source": [
    "%matplotlib inline\n",
    "import matplotlib\n",
    "import matplotlib.pyplot as plt\n",
    "plt.rcParams['axes.labelsize'] = 14\n",
    "plt.rcParams['xtick.labelsize'] = 12\n",
    "plt.rcParams['ytick.labelsize'] = 12"
   ]
  },
  {
   "cell_type": "code",
   "execution_count": 17,
   "metadata": {},
   "outputs": [
    {
     "data": {
      "text/plain": "   Starting Station ID  Starting Station Longitude  Starting Station Latitude\n0               3014.0                  -118.23721                  34.056610\n1               3014.0                  -118.23721                  34.056610\n2               3016.0                  -118.24156                  34.052898\n3               3016.0                  -118.24156                  34.052898\n4               3032.0                  -118.25588                  34.049889",
      "text/html": "<div>\n<style scoped>\n    .dataframe tbody tr th:only-of-type {\n        vertical-align: middle;\n    }\n\n    .dataframe tbody tr th {\n        vertical-align: top;\n    }\n\n    .dataframe thead th {\n        text-align: right;\n    }\n</style>\n<table border=\"1\" class=\"dataframe\">\n  <thead>\n    <tr style=\"text-align: right;\">\n      <th></th>\n      <th>Starting Station ID</th>\n      <th>Starting Station Longitude</th>\n      <th>Starting Station Latitude</th>\n    </tr>\n  </thead>\n  <tbody>\n    <tr>\n      <th>0</th>\n      <td>3014.0</td>\n      <td>-118.23721</td>\n      <td>34.056610</td>\n    </tr>\n    <tr>\n      <th>1</th>\n      <td>3014.0</td>\n      <td>-118.23721</td>\n      <td>34.056610</td>\n    </tr>\n    <tr>\n      <th>2</th>\n      <td>3016.0</td>\n      <td>-118.24156</td>\n      <td>34.052898</td>\n    </tr>\n    <tr>\n      <th>3</th>\n      <td>3016.0</td>\n      <td>-118.24156</td>\n      <td>34.052898</td>\n    </tr>\n    <tr>\n      <th>4</th>\n      <td>3032.0</td>\n      <td>-118.25588</td>\n      <td>34.049889</td>\n    </tr>\n  </tbody>\n</table>\n</div>"
     },
     "execution_count": 17,
     "metadata": {},
     "output_type": "execute_result"
    }
   ],
   "source": [
    "start_station.head().dropna()"
   ]
  },
  {
   "cell_type": "code",
   "execution_count": 18,
   "metadata": {},
   "outputs": [],
   "source": [
    "grouped = start_station.groupby('Starting Station ID')"
   ]
  },
  {
   "cell_type": "code",
   "execution_count": 19,
   "metadata": {},
   "outputs": [],
   "source": [
    "count_value = start_station['Starting Station ID'].value_counts().values"
   ]
  },
  {
   "cell_type": "code",
   "execution_count": 20,
   "metadata": {},
   "outputs": [],
   "source": [
    "st_info = grouped.max()\n",
    "st_info.insert(2,'Counts',count_value)"
   ]
  },
  {
   "cell_type": "code",
   "execution_count": 21,
   "metadata": {},
   "outputs": [
    {
     "data": {
      "text/plain": "                     Starting Station Longitude  Starting Station Latitude  \\\nStarting Station ID                                                          \n3000.0                                      NaN                        NaN   \n3005.0                              -118.259048                  34.048550   \n3006.0                              -118.256668                  34.045540   \n3007.0                              -118.254590                  34.050480   \n3008.0                              -118.262730                  34.046612   \n\n                     Counts  \nStarting Station ID          \n3000.0                 5138  \n3005.0                 5059  \n3006.0                 4883  \n3007.0                 4661  \n3008.0                 4629  ",
      "text/html": "<div>\n<style scoped>\n    .dataframe tbody tr th:only-of-type {\n        vertical-align: middle;\n    }\n\n    .dataframe tbody tr th {\n        vertical-align: top;\n    }\n\n    .dataframe thead th {\n        text-align: right;\n    }\n</style>\n<table border=\"1\" class=\"dataframe\">\n  <thead>\n    <tr style=\"text-align: right;\">\n      <th></th>\n      <th>Starting Station Longitude</th>\n      <th>Starting Station Latitude</th>\n      <th>Counts</th>\n    </tr>\n    <tr>\n      <th>Starting Station ID</th>\n      <th></th>\n      <th></th>\n      <th></th>\n    </tr>\n  </thead>\n  <tbody>\n    <tr>\n      <th>3000.0</th>\n      <td>NaN</td>\n      <td>NaN</td>\n      <td>5138</td>\n    </tr>\n    <tr>\n      <th>3005.0</th>\n      <td>-118.259048</td>\n      <td>34.048550</td>\n      <td>5059</td>\n    </tr>\n    <tr>\n      <th>3006.0</th>\n      <td>-118.256668</td>\n      <td>34.045540</td>\n      <td>4883</td>\n    </tr>\n    <tr>\n      <th>3007.0</th>\n      <td>-118.254590</td>\n      <td>34.050480</td>\n      <td>4661</td>\n    </tr>\n    <tr>\n      <th>3008.0</th>\n      <td>-118.262730</td>\n      <td>34.046612</td>\n      <td>4629</td>\n    </tr>\n  </tbody>\n</table>\n</div>"
     },
     "execution_count": 21,
     "metadata": {},
     "output_type": "execute_result"
    }
   ],
   "source": [
    "st_info.head()"
   ]
  },
  {
   "cell_type": "markdown",
   "metadata": {},
   "source": [
    "---"
   ]
  },
  {
   "cell_type": "markdown",
   "metadata": {},
   "source": [
    "## discover bike info"
   ]
  },
  {
   "cell_type": "code",
   "execution_count": 22,
   "metadata": {},
   "outputs": [
    {
     "data": {
      "text/plain": "   Duration           Start Time             End Time Trip Route Category  \\\n0       180  2016-07-07T04:17:00  2016-07-07T04:20:00          Round Trip   \n1      1980  2016-07-07T06:00:00  2016-07-07T06:33:00          Round Trip   \n2       300  2016-07-07T10:32:00  2016-07-07T10:37:00          Round Trip   \n3     10860  2016-07-07T10:37:00  2016-07-07T13:38:00          Round Trip   \n4       420  2016-07-07T12:51:00  2016-07-07T12:58:00          Round Trip   \n\n   Plan Duration Passholder Type  \n0           30.0    Monthly Pass  \n1           30.0    Monthly Pass  \n2          365.0       Flex Pass  \n3          365.0       Flex Pass  \n4            0.0         Walk-up  ",
      "text/html": "<div>\n<style scoped>\n    .dataframe tbody tr th:only-of-type {\n        vertical-align: middle;\n    }\n\n    .dataframe tbody tr th {\n        vertical-align: top;\n    }\n\n    .dataframe thead th {\n        text-align: right;\n    }\n</style>\n<table border=\"1\" class=\"dataframe\">\n  <thead>\n    <tr style=\"text-align: right;\">\n      <th></th>\n      <th>Duration</th>\n      <th>Start Time</th>\n      <th>End Time</th>\n      <th>Trip Route Category</th>\n      <th>Plan Duration</th>\n      <th>Passholder Type</th>\n    </tr>\n  </thead>\n  <tbody>\n    <tr>\n      <th>0</th>\n      <td>180</td>\n      <td>2016-07-07T04:17:00</td>\n      <td>2016-07-07T04:20:00</td>\n      <td>Round Trip</td>\n      <td>30.0</td>\n      <td>Monthly Pass</td>\n    </tr>\n    <tr>\n      <th>1</th>\n      <td>1980</td>\n      <td>2016-07-07T06:00:00</td>\n      <td>2016-07-07T06:33:00</td>\n      <td>Round Trip</td>\n      <td>30.0</td>\n      <td>Monthly Pass</td>\n    </tr>\n    <tr>\n      <th>2</th>\n      <td>300</td>\n      <td>2016-07-07T10:32:00</td>\n      <td>2016-07-07T10:37:00</td>\n      <td>Round Trip</td>\n      <td>365.0</td>\n      <td>Flex Pass</td>\n    </tr>\n    <tr>\n      <th>3</th>\n      <td>10860</td>\n      <td>2016-07-07T10:37:00</td>\n      <td>2016-07-07T13:38:00</td>\n      <td>Round Trip</td>\n      <td>365.0</td>\n      <td>Flex Pass</td>\n    </tr>\n    <tr>\n      <th>4</th>\n      <td>420</td>\n      <td>2016-07-07T12:51:00</td>\n      <td>2016-07-07T12:58:00</td>\n      <td>Round Trip</td>\n      <td>0.0</td>\n      <td>Walk-up</td>\n    </tr>\n  </tbody>\n</table>\n</div>"
     },
     "execution_count": 22,
     "metadata": {},
     "output_type": "execute_result"
    }
   ],
   "source": [
    "bike_info.head()"
   ]
  },
  {
   "cell_type": "code",
   "execution_count": 23,
   "metadata": {},
   "outputs": [
    {
     "data": {
      "text/plain": "array(['Round Trip', 'One Way'], dtype=object)"
     },
     "execution_count": 23,
     "metadata": {},
     "output_type": "execute_result"
    }
   ],
   "source": [
    "bike_info['Trip Route Category'].unique()"
   ]
  },
  {
   "cell_type": "code",
   "execution_count": 24,
   "metadata": {},
   "outputs": [
    {
     "data": {
      "text/plain": "array(['Monthly Pass', 'Flex Pass', 'Walk-up', 'Staff Annual'],\n      dtype=object)"
     },
     "execution_count": 24,
     "metadata": {},
     "output_type": "execute_result"
    }
   ],
   "source": [
    "bike_info['Passholder Type'].unique()"
   ]
  },
  {
   "cell_type": "code",
   "execution_count": 25,
   "metadata": {},
   "outputs": [
    {
     "data": {
      "text/plain": "array([ 30., 365.,   0.,  nan])"
     },
     "execution_count": 25,
     "metadata": {},
     "output_type": "execute_result"
    }
   ],
   "source": [
    "bike_info['Plan Duration'].unique()"
   ]
  },
  {
   "cell_type": "code",
   "execution_count": 26,
   "metadata": {
    "scrolled": true
   },
   "outputs": [
    {
     "data": {
      "text/plain": "            Duration  Plan Duration\ncount  132427.000000  131661.000000\nmean     1555.301562      44.821967\nstd      5814.241813      90.411579\nmin        60.000000       0.000000\n25%       360.000000       0.000000\n50%       600.000000      30.000000\n75%      1080.000000      30.000000\nmax     86400.000000     365.000000",
      "text/html": "<div>\n<style scoped>\n    .dataframe tbody tr th:only-of-type {\n        vertical-align: middle;\n    }\n\n    .dataframe tbody tr th {\n        vertical-align: top;\n    }\n\n    .dataframe thead th {\n        text-align: right;\n    }\n</style>\n<table border=\"1\" class=\"dataframe\">\n  <thead>\n    <tr style=\"text-align: right;\">\n      <th></th>\n      <th>Duration</th>\n      <th>Plan Duration</th>\n    </tr>\n  </thead>\n  <tbody>\n    <tr>\n      <th>count</th>\n      <td>132427.000000</td>\n      <td>131661.000000</td>\n    </tr>\n    <tr>\n      <th>mean</th>\n      <td>1555.301562</td>\n      <td>44.821967</td>\n    </tr>\n    <tr>\n      <th>std</th>\n      <td>5814.241813</td>\n      <td>90.411579</td>\n    </tr>\n    <tr>\n      <th>min</th>\n      <td>60.000000</td>\n      <td>0.000000</td>\n    </tr>\n    <tr>\n      <th>25%</th>\n      <td>360.000000</td>\n      <td>0.000000</td>\n    </tr>\n    <tr>\n      <th>50%</th>\n      <td>600.000000</td>\n      <td>30.000000</td>\n    </tr>\n    <tr>\n      <th>75%</th>\n      <td>1080.000000</td>\n      <td>30.000000</td>\n    </tr>\n    <tr>\n      <th>max</th>\n      <td>86400.000000</td>\n      <td>365.000000</td>\n    </tr>\n  </tbody>\n</table>\n</div>"
     },
     "execution_count": 26,
     "metadata": {},
     "output_type": "execute_result"
    }
   ],
   "source": [
    "bike_info.describe()"
   ]
  },
  {
   "cell_type": "markdown",
   "metadata": {},
   "source": [
    "---"
   ]
  },
  {
   "cell_type": "markdown",
   "metadata": {},
   "source": [
    "# 分析思路(Analysis methods)😜"
   ]
  },
  {
   "cell_type": "markdown",
   "metadata": {},
   "source": [
    "- 热门Station分布分析(**Distribution of Hot Stations**)\n",
    "- 2.共享单车出行高峰时间段分析(**Rush Hour Analysis**)\n",
    "- 3.单程与往返的比较分析(**Round Trip/One Way Comparison Analysis**)\n",
    "- 使用时长与会员卡类型的关联度分析(**relevancy analysis between Duration&Passholder Type**)"
   ]
  },
  {
   "cell_type": "markdown",
   "metadata": {},
   "source": [
    "---"
   ]
  },
  {
   "cell_type": "markdown",
   "metadata": {},
   "source": [
    "# 开始数据分析(Data Analysis)😁"
   ]
  },
  {
   "cell_type": "markdown",
   "metadata": {},
   "source": [
    "### 1）共享单车热门开始站分布可视化探索"
   ]
  },
  {
   "cell_type": "code",
   "execution_count": 27,
   "metadata": {},
   "outputs": [
    {
     "data": {
      "text/plain": "<Figure size 640x480 with 1 Axes>",
      "image/png": "[encoded data removed]"
     },
     "metadata": {},
     "output_type": "display_data"
    }
   ],
   "source": [
    "pic = st_info.plot(kind=\"scatter\", x=\"Starting Station Longitude\", y=\"Starting Station Latitude\",s = st_info['Counts']/10,\n",
    "                        alpha=1)\n",
    "plt.axis([-118.28,-118.22,34.02,34.07])\n",
    "plt.show()"
   ]
  },
  {
   "cell_type": "markdown",
   "metadata": {},
   "source": [
    "### Conclusion"
   ]
  },
  {
   "cell_type": "markdown",
   "metadata": {},
   "source": [
    "- If there is a **L.A. map** should be better to analysis..."
   ]
  },
  {
   "cell_type": "markdown",
   "metadata": {},
   "source": [
    "---"
   ]
  },
  {
   "cell_type": "markdown",
   "metadata": {},
   "source": [
    "## 2）共享单车出行高峰时间段分析(Rush Hour Analysis)"
   ]
  },
  {
   "cell_type": "markdown",
   "metadata": {},
   "source": [
    "### 正则提取时间(use regular expression to extract the Time)"
   ]
  },
  {
   "cell_type": "code",
   "execution_count": 28,
   "metadata": {},
   "outputs": [],
   "source": [
    "bike_info = bike_info.dropna()"
   ]
  },
  {
   "cell_type": "code",
   "execution_count": 29,
   "metadata": {},
   "outputs": [],
   "source": [
    "import re\n",
    "from pandas import Series,DataFrame\n",
    "\n",
    "pattern_time = '[0-9][0-9]:[0-9][0-9]:[0-9][0-9]'\n",
    "pattern_hour = '[0-9][0-9]'"
   ]
  },
  {
   "cell_type": "code",
   "execution_count": 30,
   "metadata": {},
   "outputs": [],
   "source": [
    "timelist = []\n",
    "for item in bike_info['Start Time']:\n",
    "    time = re.findall(pattern_time,item)[0]\n",
    "    timelist.append(time)"
   ]
  },
  {
   "cell_type": "code",
   "execution_count": 31,
   "metadata": {},
   "outputs": [
    {
     "data": {
      "text/plain": "['04:17:00', '06:00:00', '10:32:00', '10:37:00', '12:51:00']"
     },
     "execution_count": 31,
     "metadata": {},
     "output_type": "execute_result"
    }
   ],
   "source": [
    "timelist[:5]"
   ]
  },
  {
   "cell_type": "markdown",
   "metadata": {},
   "source": [
    "### 提取hour(extract the Hour)"
   ]
  },
  {
   "cell_type": "code",
   "execution_count": 32,
   "metadata": {},
   "outputs": [],
   "source": [
    "hourlist = []\n",
    "for item in timelist:\n",
    "    hour = re.findall(pattern_hour,item)[0]\n",
    "    hourlist.append(hour)"
   ]
  },
  {
   "cell_type": "code",
   "execution_count": 33,
   "metadata": {},
   "outputs": [
    {
     "data": {
      "text/plain": "['04', '06', '10', '10', '12']"
     },
     "execution_count": 33,
     "metadata": {},
     "output_type": "execute_result"
    }
   ],
   "source": [
    "hourlist[:5]"
   ]
  },
  {
   "cell_type": "code",
   "execution_count": 34,
   "metadata": {},
   "outputs": [],
   "source": [
    "timeSeries = Series(timelist)\n",
    "hourSeries = Series(hourlist)"
   ]
  },
  {
   "cell_type": "code",
   "execution_count": 35,
   "metadata": {},
   "outputs": [
    {
     "data": {
      "text/plain": "   Duration           Start Time             End Time Trip Route Category  \\\n0       180  2016-07-07T04:17:00  2016-07-07T04:20:00          Round Trip   \n1      1980  2016-07-07T06:00:00  2016-07-07T06:33:00          Round Trip   \n2       300  2016-07-07T10:32:00  2016-07-07T10:37:00          Round Trip   \n3     10860  2016-07-07T10:37:00  2016-07-07T13:38:00          Round Trip   \n4       420  2016-07-07T12:51:00  2016-07-07T12:58:00          Round Trip   \n\n   Plan Duration Passholder Type  \n0           30.0    Monthly Pass  \n1           30.0    Monthly Pass  \n2          365.0       Flex Pass  \n3          365.0       Flex Pass  \n4            0.0         Walk-up  ",
      "text/html": "<div>\n<style scoped>\n    .dataframe tbody tr th:only-of-type {\n        vertical-align: middle;\n    }\n\n    .dataframe tbody tr th {\n        vertical-align: top;\n    }\n\n    .dataframe thead th {\n        text-align: right;\n    }\n</style>\n<table border=\"1\" class=\"dataframe\">\n  <thead>\n    <tr style=\"text-align: right;\">\n      <th></th>\n      <th>Duration</th>\n      <th>Start Time</th>\n      <th>End Time</th>\n      <th>Trip Route Category</th>\n      <th>Plan Duration</th>\n      <th>Passholder Type</th>\n    </tr>\n  </thead>\n  <tbody>\n    <tr>\n      <th>0</th>\n      <td>180</td>\n      <td>2016-07-07T04:17:00</td>\n      <td>2016-07-07T04:20:00</td>\n      <td>Round Trip</td>\n      <td>30.0</td>\n      <td>Monthly Pass</td>\n    </tr>\n    <tr>\n      <th>1</th>\n      <td>1980</td>\n      <td>2016-07-07T06:00:00</td>\n      <td>2016-07-07T06:33:00</td>\n      <td>Round Trip</td>\n      <td>30.0</td>\n      <td>Monthly Pass</td>\n    </tr>\n    <tr>\n      <th>2</th>\n      <td>300</td>\n      <td>2016-07-07T10:32:00</td>\n      <td>2016-07-07T10:37:00</td>\n      <td>Round Trip</td>\n      <td>365.0</td>\n      <td>Flex Pass</td>\n    </tr>\n    <tr>\n      <th>3</th>\n      <td>10860</td>\n      <td>2016-07-07T10:37:00</td>\n      <td>2016-07-07T13:38:00</td>\n      <td>Round Trip</td>\n      <td>365.0</td>\n      <td>Flex Pass</td>\n    </tr>\n    <tr>\n      <th>4</th>\n      <td>420</td>\n      <td>2016-07-07T12:51:00</td>\n      <td>2016-07-07T12:58:00</td>\n      <td>Round Trip</td>\n      <td>0.0</td>\n      <td>Walk-up</td>\n    </tr>\n  </tbody>\n</table>\n</div>"
     },
     "execution_count": 35,
     "metadata": {},
     "output_type": "execute_result"
    }
   ],
   "source": [
    "bike_info.head()"
   ]
  },
  {
   "cell_type": "code",
   "execution_count": 36,
   "metadata": {},
   "outputs": [],
   "source": [
    "bike_info.insert(3,'Start Hour',hourSeries)"
   ]
  },
  {
   "cell_type": "code",
   "execution_count": 37,
   "metadata": {},
   "outputs": [
    {
     "data": {
      "text/plain": "   Duration           Start Time             End Time Start Hour  \\\n0       180  2016-07-07T04:17:00  2016-07-07T04:20:00         04   \n1      1980  2016-07-07T06:00:00  2016-07-07T06:33:00         06   \n2       300  2016-07-07T10:32:00  2016-07-07T10:37:00         10   \n3     10860  2016-07-07T10:37:00  2016-07-07T13:38:00         10   \n4       420  2016-07-07T12:51:00  2016-07-07T12:58:00         12   \n\n  Trip Route Category  Plan Duration Passholder Type  \n0          Round Trip           30.0    Monthly Pass  \n1          Round Trip           30.0    Monthly Pass  \n2          Round Trip          365.0       Flex Pass  \n3          Round Trip          365.0       Flex Pass  \n4          Round Trip            0.0         Walk-up  ",
      "text/html": "<div>\n<style scoped>\n    .dataframe tbody tr th:only-of-type {\n        vertical-align: middle;\n    }\n\n    .dataframe tbody tr th {\n        vertical-align: top;\n    }\n\n    .dataframe thead th {\n        text-align: right;\n    }\n</style>\n<table border=\"1\" class=\"dataframe\">\n  <thead>\n    <tr style=\"text-align: right;\">\n      <th></th>\n      <th>Duration</th>\n      <th>Start Time</th>\n      <th>End Time</th>\n      <th>Start Hour</th>\n      <th>Trip Route Category</th>\n      <th>Plan Duration</th>\n      <th>Passholder Type</th>\n    </tr>\n  </thead>\n  <tbody>\n    <tr>\n      <th>0</th>\n      <td>180</td>\n      <td>2016-07-07T04:17:00</td>\n      <td>2016-07-07T04:20:00</td>\n      <td>04</td>\n      <td>Round Trip</td>\n      <td>30.0</td>\n      <td>Monthly Pass</td>\n    </tr>\n    <tr>\n      <th>1</th>\n      <td>1980</td>\n      <td>2016-07-07T06:00:00</td>\n      <td>2016-07-07T06:33:00</td>\n      <td>06</td>\n      <td>Round Trip</td>\n      <td>30.0</td>\n      <td>Monthly Pass</td>\n    </tr>\n    <tr>\n      <th>2</th>\n      <td>300</td>\n      <td>2016-07-07T10:32:00</td>\n      <td>2016-07-07T10:37:00</td>\n      <td>10</td>\n      <td>Round Trip</td>\n      <td>365.0</td>\n      <td>Flex Pass</td>\n    </tr>\n    <tr>\n      <th>3</th>\n      <td>10860</td>\n      <td>2016-07-07T10:37:00</td>\n      <td>2016-07-07T13:38:00</td>\n      <td>10</td>\n      <td>Round Trip</td>\n      <td>365.0</td>\n      <td>Flex Pass</td>\n    </tr>\n    <tr>\n      <th>4</th>\n      <td>420</td>\n      <td>2016-07-07T12:51:00</td>\n      <td>2016-07-07T12:58:00</td>\n      <td>12</td>\n      <td>Round Trip</td>\n      <td>0.0</td>\n      <td>Walk-up</td>\n    </tr>\n  </tbody>\n</table>\n</div>"
     },
     "execution_count": 37,
     "metadata": {},
     "output_type": "execute_result"
    }
   ],
   "source": [
    "bike_info.head()"
   ]
  },
  {
   "cell_type": "code",
   "execution_count": 38,
   "metadata": {},
   "outputs": [],
   "source": [
    "Start_Hour_counts = bike_info['Start Hour'].value_counts().sort_index()"
   ]
  },
  {
   "cell_type": "code",
   "execution_count": 90,
   "metadata": {
    "scrolled": false
   },
   "outputs": [
    {
     "name": "stdout",
     "output_type": "stream",
     "text": [
      "[0, 1, 2, 3, 4, 5, 6, 7, 8, 9, 10, 11, 12, 13, 14, 15, 16, 17, 18, 19, 20, 21, 22, 23]\n",
      "[1771, 1337, 864, 445, 417, 559, 1735, 4684, 6805, 6210, 5356, 7546, 9920, 9628, 8356, 8231, 9863, 11606, 10347, 7876, 5946, 4845, 3799, 2757]\n"
     ]
    },
    {
     "data": {
      "text/plain": "'D:\\\\homework\\\\LA-Metro-Bike-Share-Analysis-master\\\\LA-Metro-Bike-Share-Analysis-master\\\\rush-hour-line.html'"
     },
     "execution_count": 90,
     "metadata": {},
     "output_type": "execute_result"
    }
   ],
   "source": [
    "# from pyecharts import Line\n",
    "#\n",
    "# attr =list(map(int, Start_Hour_counts.index))\n",
    "# v =  Start_Hour_counts.values\n",
    "# line = Line(\"Rush Hour Analysis\")\n",
    "# line.add(\"\", attr, v,mark_point=[\"min\",\"max\"],is_smooth=True)\n",
    "#\n",
    "# line.render('rush-hour-line.html')\n",
    "# line\n",
    "# from pyecharts.charts import Line\n",
    "# from pyecharts import options as opts\n",
    "#\n",
    "# attr = list(map(int, Start_Hour_counts.index))\n",
    "# print(attr)\n",
    "# v = Start_Hour_counts.values\n",
    "# print(v)\n",
    "# line = Line(init_opts=opts.InitOpts(width='1000px', height='400px'))\n",
    "# line.add_xaxis(attr)\n",
    "# line.add_yaxis(\"\", v, markpoint_opts=opts.MarkPointOpts(data=[opts.MarkPointItem(type_='max'), opts.MarkPointItem(type_='min')]))\n",
    "# line.set_series_opts(label_opts=opts.LabelOpts(is_show=False))\n",
    "# line.set_global_opts(title_opts=opts.TitleOpts(title='Rush Hour Analysis'))\n",
    "#\n",
    "# line.render('rush-hour-line.html')\n",
    "from pyecharts.charts import Line\n",
    "from pyecharts import options as opts\n",
    "\n",
    "# # Use your data\n",
    "# x_data = [0, 1, 2, 3, 4, 5, 6, 7, 8, 9, 10, 11, 12, 13, 14, 15, 16, 17, 18, 19, 20, 21, 22, 23]\n",
    "# y_data = [1771, 1337, 864, 445, 417, 559, 1735, 4684, 6805, 6210, 5356, 7546, 9920, 9628, 8356, 8231, 9863, 11606, 10347, 7876, 5946, 4845, 3799, 2757]\n",
    "attr = list(map(int, Start_Hour_counts.index))\n",
    "print(attr)\n",
    "v = Start_Hour_counts.values.tolist()\n",
    "print(v)\n",
    "# Create a line chart\n",
    "line = Line(init_opts=opts.InitOpts(width='1000px', height='400px'))\n",
    "line.add_xaxis(attr)\n",
    "line.add_yaxis(\"\", v, markpoint_opts=opts.MarkPointOpts(data=[opts.MarkPointItem(type_='max'), opts.MarkPointItem(type_='min')]))\n",
    "line.set_series_opts(label_opts=opts.LabelOpts(is_show=False))\n",
    "line.set_global_opts(title_opts=opts.TitleOpts(title='Rush Hour Analysis'))\n",
    "\n",
    "# Save the chart to an HTML file\n",
    "line.render('rush-hour-line.html')\n"
   ]
  },
  {
   "cell_type": "markdown",
   "metadata": {},
   "source": [
    "### Conclusion"
   ]
  },
  {
   "cell_type": "markdown",
   "metadata": {},
   "source": [
    "- 共享单车出行者通常选择在**7a.m.-20p.m.**出行\n",
    "- **6a.m.-8a.m.**早高峰时段，**10a.m.-12a.m.**午高峰时段以及**15a.m.-17a.m.晚高峰时段**都有明显的用车量增加。\n",
    "- 出行最高峰是**17p.m**.，推测为**下班晚高峰**\n",
    "- 出行最低谷为**4a.m.**，凌晨的用车辆非常少\n",
    "- 从高峰到低谷是一个完全**下降趋势**，用车辆逐渐降低"
   ]
  },
  {
   "cell_type": "markdown",
   "metadata": {},
   "source": [
    "- Shared-bike riders usually choose to start their trip at **7a.m.-20p.m**\n",
    "- **6a.m.-8a.m.**morning peak period, **10a.m.-12a.m.**afternoon peak period and **15a.m.-17a.m.**evening peak period shows significant increase in shared-bike use\n",
    "- The peak of use is **17p.m.**, which is presumed to be **the evening peak**\n",
    "- The lowest point of use is **4a.m**,few shared-bikes are used in mid-night\n",
    "- From the peak to the lowest point is a **complete downward trend**, with the vehicle gradually reduced"
   ]
  },
  {
   "cell_type": "markdown",
   "metadata": {},
   "source": [
    "---"
   ]
  },
  {
   "cell_type": "markdown",
   "metadata": {},
   "source": [
    "## 3）单车使用时长与会员卡持有种类的相关性分析\n",
    "## (relevancy analysis between Duration&Passholder Type)"
   ]
  },
  {
   "cell_type": "code",
   "execution_count": 43,
   "metadata": {},
   "outputs": [
    {
     "data": {
      "text/plain": "   Duration Trip Route Category  Plan Duration Passholder Type\n0       180          Round Trip           30.0    Monthly Pass\n1      1980          Round Trip           30.0    Monthly Pass\n2       300          Round Trip          365.0       Flex Pass\n3     10860          Round Trip          365.0       Flex Pass\n4       420          Round Trip            0.0         Walk-up",
      "text/html": "<div>\n<style scoped>\n    .dataframe tbody tr th:only-of-type {\n        vertical-align: middle;\n    }\n\n    .dataframe tbody tr th {\n        vertical-align: top;\n    }\n\n    .dataframe thead th {\n        text-align: right;\n    }\n</style>\n<table border=\"1\" class=\"dataframe\">\n  <thead>\n    <tr style=\"text-align: right;\">\n      <th></th>\n      <th>Duration</th>\n      <th>Trip Route Category</th>\n      <th>Plan Duration</th>\n      <th>Passholder Type</th>\n    </tr>\n  </thead>\n  <tbody>\n    <tr>\n      <th>0</th>\n      <td>180</td>\n      <td>Round Trip</td>\n      <td>30.0</td>\n      <td>Monthly Pass</td>\n    </tr>\n    <tr>\n      <th>1</th>\n      <td>1980</td>\n      <td>Round Trip</td>\n      <td>30.0</td>\n      <td>Monthly Pass</td>\n    </tr>\n    <tr>\n      <th>2</th>\n      <td>300</td>\n      <td>Round Trip</td>\n      <td>365.0</td>\n      <td>Flex Pass</td>\n    </tr>\n    <tr>\n      <th>3</th>\n      <td>10860</td>\n      <td>Round Trip</td>\n      <td>365.0</td>\n      <td>Flex Pass</td>\n    </tr>\n    <tr>\n      <th>4</th>\n      <td>420</td>\n      <td>Round Trip</td>\n      <td>0.0</td>\n      <td>Walk-up</td>\n    </tr>\n  </tbody>\n</table>\n</div>"
     },
     "execution_count": 43,
     "metadata": {},
     "output_type": "execute_result"
    }
   ],
   "source": [
    "bike_trip_info = bike_info[['Duration','Trip Route Category','Plan Duration','Passholder Type']]\n",
    "bike_trip_info.head()"
   ]
  },
  {
   "cell_type": "markdown",
   "metadata": {},
   "source": [
    "### 单独提取Duration，进行聚类(cluster by Duration)"
   ]
  },
  {
   "cell_type": "code",
   "execution_count": 44,
   "metadata": {},
   "outputs": [
    {
     "data": {
      "text/plain": "   Duration\n0       180\n1      1980\n2       300\n3     10860\n4       420",
      "text/html": "<div>\n<style scoped>\n    .dataframe tbody tr th:only-of-type {\n        vertical-align: middle;\n    }\n\n    .dataframe tbody tr th {\n        vertical-align: top;\n    }\n\n    .dataframe thead th {\n        text-align: right;\n    }\n</style>\n<table border=\"1\" class=\"dataframe\">\n  <thead>\n    <tr style=\"text-align: right;\">\n      <th></th>\n      <th>Duration</th>\n    </tr>\n  </thead>\n  <tbody>\n    <tr>\n      <th>0</th>\n      <td>180</td>\n    </tr>\n    <tr>\n      <th>1</th>\n      <td>1980</td>\n    </tr>\n    <tr>\n      <th>2</th>\n      <td>300</td>\n    </tr>\n    <tr>\n      <th>3</th>\n      <td>10860</td>\n    </tr>\n    <tr>\n      <th>4</th>\n      <td>420</td>\n    </tr>\n  </tbody>\n</table>\n</div>"
     },
     "execution_count": 44,
     "metadata": {},
     "output_type": "execute_result"
    }
   ],
   "source": [
    "duration = bike_trip_info[['Duration']]\n",
    "duration.head()\n",
    "# duration时间单位为 秒"
   ]
  },
  {
   "cell_type": "code",
   "execution_count": 46,
   "metadata": {},
   "outputs": [
    {
     "data": {
      "text/plain": "KMeans(n_clusters=4)"
     },
     "execution_count": 46,
     "metadata": {},
     "output_type": "execute_result"
    }
   ],
   "source": [
    "from sklearn.cluster import KMeans # 导入Kmeans\n",
    "\n",
    "k=4 # 聚类类别数\n",
    "kmodel = KMeans(n_clusters=k)\n",
    "kmodel.fit(duration)"
   ]
  },
  {
   "cell_type": "code",
   "execution_count": 47,
   "metadata": {},
   "outputs": [
    {
     "data": {
      "text/plain": "array([[  852.28531007],\n       [79762.47011952],\n       [38263.11864407],\n       [ 9696.06469003]])"
     },
     "execution_count": 47,
     "metadata": {},
     "output_type": "execute_result"
    }
   ],
   "source": [
    "# 查看聚类中心\n",
    "kmodel.cluster_centers_"
   ]
  },
  {
   "cell_type": "code",
   "execution_count": 48,
   "metadata": {},
   "outputs": [
    {
     "data": {
      "text/plain": "       Duration  Duration Class\n0    852.285310      short-time\n3   9696.064690     medium-time\n2  38263.118644       long-time\n1  79762.470120  very-long-time",
      "text/html": "<div>\n<style scoped>\n    .dataframe tbody tr th:only-of-type {\n        vertical-align: middle;\n    }\n\n    .dataframe tbody tr th {\n        vertical-align: top;\n    }\n\n    .dataframe thead th {\n        text-align: right;\n    }\n</style>\n<table border=\"1\" class=\"dataframe\">\n  <thead>\n    <tr style=\"text-align: right;\">\n      <th></th>\n      <th>Duration</th>\n      <th>Duration Class</th>\n    </tr>\n  </thead>\n  <tbody>\n    <tr>\n      <th>0</th>\n      <td>852.285310</td>\n      <td>short-time</td>\n    </tr>\n    <tr>\n      <th>3</th>\n      <td>9696.064690</td>\n      <td>medium-time</td>\n    </tr>\n    <tr>\n      <th>2</th>\n      <td>38263.118644</td>\n      <td>long-time</td>\n    </tr>\n    <tr>\n      <th>1</th>\n      <td>79762.470120</td>\n      <td>very-long-time</td>\n    </tr>\n  </tbody>\n</table>\n</div>"
     },
     "execution_count": 48,
     "metadata": {},
     "output_type": "execute_result"
    }
   ],
   "source": [
    "# 从低到高的排序\n",
    "c = pd.DataFrame(kmodel.cluster_centers_).sort_values(0)\n",
    "c['Duration Class'] = ['short-time','medium-time','long-time','very-long-time']\n",
    "c.columns=['Duration','Duration Class']\n",
    "c"
   ]
  },
  {
   "cell_type": "code",
   "execution_count": 49,
   "metadata": {},
   "outputs": [],
   "source": [
    "# 获取聚类后各类别的index\n",
    "short = c[c['Duration Class']=='short-time'].index[0]\n",
    "medium = c[c['Duration Class']=='medium-time'].index[0]\n",
    "long = c[c['Duration Class']=='long-time'].index[0]\n",
    "verylong = c[c['Duration Class']=='very-long-time'].index[0]"
   ]
  },
  {
   "cell_type": "code",
   "execution_count": 50,
   "metadata": {},
   "outputs": [],
   "source": [
    "# duration映射函数\n",
    "duration_map = {\n",
    "    short:'short-time',\n",
    "    medium:'medium-time',\n",
    "    long:'long-time',\n",
    "    verylong:'very-long-time'\n",
    "}"
   ]
  },
  {
   "cell_type": "code",
   "execution_count": 51,
   "metadata": {},
   "outputs": [],
   "source": [
    "labels = kmodel.labels_\n",
    "#labels：聚类结果对应的标签"
   ]
  },
  {
   "cell_type": "markdown",
   "metadata": {},
   "source": [
    "### 将聚类后的结果插入bike_trip_info中(Insert the results into the ***bike_trip_info***)"
   ]
  },
  {
   "cell_type": "code",
   "execution_count": 52,
   "metadata": {},
   "outputs": [],
   "source": [
    "bike_trip_info.insert(1,'Duration Class',labels)"
   ]
  },
  {
   "cell_type": "code",
   "execution_count": 53,
   "metadata": {},
   "outputs": [],
   "source": [
    "# map映射函数\n",
    "bike_trip_info['Duration Class'] = bike_trip_info['Duration Class'].map(duration_map)"
   ]
  },
  {
   "cell_type": "code",
   "execution_count": 54,
   "metadata": {},
   "outputs": [
    {
     "data": {
      "text/plain": "   Duration Duration Class Trip Route Category  Plan Duration Passholder Type\n0       180     short-time          Round Trip           30.0    Monthly Pass\n1      1980     short-time          Round Trip           30.0    Monthly Pass\n2       300     short-time          Round Trip          365.0       Flex Pass\n3     10860    medium-time          Round Trip          365.0       Flex Pass\n4       420     short-time          Round Trip            0.0         Walk-up",
      "text/html": "<div>\n<style scoped>\n    .dataframe tbody tr th:only-of-type {\n        vertical-align: middle;\n    }\n\n    .dataframe tbody tr th {\n        vertical-align: top;\n    }\n\n    .dataframe thead th {\n        text-align: right;\n    }\n</style>\n<table border=\"1\" class=\"dataframe\">\n  <thead>\n    <tr style=\"text-align: right;\">\n      <th></th>\n      <th>Duration</th>\n      <th>Duration Class</th>\n      <th>Trip Route Category</th>\n      <th>Plan Duration</th>\n      <th>Passholder Type</th>\n    </tr>\n  </thead>\n  <tbody>\n    <tr>\n      <th>0</th>\n      <td>180</td>\n      <td>short-time</td>\n      <td>Round Trip</td>\n      <td>30.0</td>\n      <td>Monthly Pass</td>\n    </tr>\n    <tr>\n      <th>1</th>\n      <td>1980</td>\n      <td>short-time</td>\n      <td>Round Trip</td>\n      <td>30.0</td>\n      <td>Monthly Pass</td>\n    </tr>\n    <tr>\n      <th>2</th>\n      <td>300</td>\n      <td>short-time</td>\n      <td>Round Trip</td>\n      <td>365.0</td>\n      <td>Flex Pass</td>\n    </tr>\n    <tr>\n      <th>3</th>\n      <td>10860</td>\n      <td>medium-time</td>\n      <td>Round Trip</td>\n      <td>365.0</td>\n      <td>Flex Pass</td>\n    </tr>\n    <tr>\n      <th>4</th>\n      <td>420</td>\n      <td>short-time</td>\n      <td>Round Trip</td>\n      <td>0.0</td>\n      <td>Walk-up</td>\n    </tr>\n  </tbody>\n</table>\n</div>"
     },
     "execution_count": 54,
     "metadata": {},
     "output_type": "execute_result"
    }
   ],
   "source": [
    "bike_trip_info.head()"
   ]
  },
  {
   "cell_type": "markdown",
   "metadata": {},
   "source": [
    "**查看各类Duration数量**"
   ]
  },
  {
   "cell_type": "code",
   "execution_count": 55,
   "metadata": {
    "scrolled": true
   },
   "outputs": [
    {
     "data": {
      "text/plain": "short-time        127230\nmedium-time         3339\nlong-time            590\nvery-long-time       502\nName: Duration Class, dtype: int64"
     },
     "execution_count": 55,
     "metadata": {},
     "output_type": "execute_result"
    }
   ],
   "source": [
    "bike_trip_info['Duration Class'].value_counts()"
   ]
  },
  {
   "cell_type": "markdown",
   "metadata": {},
   "source": [
    "---"
   ]
  },
  {
   "cell_type": "markdown",
   "metadata": {},
   "source": [
    "### Duration Class探索"
   ]
  },
  {
   "cell_type": "markdown",
   "metadata": {},
   "source": [
    "#### very-long-time 探索"
   ]
  },
  {
   "cell_type": "code",
   "execution_count": 56,
   "metadata": {},
   "outputs": [
    {
     "data": {
      "text/plain": "0.0      0.808765\n30.0     0.141434\n365.0    0.049801\nName: Plan Duration, dtype: float64"
     },
     "execution_count": 56,
     "metadata": {},
     "output_type": "execute_result"
    }
   ],
   "source": [
    "verylong_counts = bike_trip_info[bike_trip_info['Duration Class']=='very-long-time']['Plan Duration'].value_counts()\n",
    "series1 = verylong_counts/sum(verylong_counts)\n",
    "series1"
   ]
  },
  {
   "cell_type": "markdown",
   "metadata": {},
   "source": [
    "#### long-time 探索"
   ]
  },
  {
   "cell_type": "code",
   "execution_count": 57,
   "metadata": {},
   "outputs": [],
   "source": [
    "long_counts = bike_trip_info[bike_trip_info['Duration Class']=='long-time']['Plan Duration'].value_counts()\n",
    "series2 = long_counts/sum(long_counts)"
   ]
  },
  {
   "cell_type": "markdown",
   "metadata": {},
   "source": [
    "#### medium-time 探索"
   ]
  },
  {
   "cell_type": "code",
   "execution_count": 58,
   "metadata": {},
   "outputs": [],
   "source": [
    "medium_counts = bike_trip_info[bike_trip_info['Duration Class']=='medium-time']['Plan Duration'].value_counts()\n",
    "series3 = medium_counts/sum(medium_counts)"
   ]
  },
  {
   "cell_type": "markdown",
   "metadata": {},
   "source": [
    "#### short-time 探索"
   ]
  },
  {
   "cell_type": "code",
   "execution_count": 59,
   "metadata": {},
   "outputs": [],
   "source": [
    "short_counts = bike_trip_info[bike_trip_info['Duration Class']=='short-time']['Plan Duration'].value_counts()\n",
    "series4 = short_counts/sum(short_counts)\n",
    "series4 = series4.sort_index()"
   ]
  },
  {
   "cell_type": "markdown",
   "metadata": {},
   "source": [
    "---"
   ]
  },
  {
   "cell_type": "markdown",
   "metadata": {},
   "source": [
    "### 雷达图可视化(Radar Chart)"
   ]
  },
  {
   "cell_type": "code",
   "execution_count": 60,
   "metadata": {},
   "outputs": [],
   "source": [
    "duration_rate = DataFrame(list(zip(series1,series2,series3)))"
   ]
  },
  {
   "cell_type": "code",
   "execution_count": 61,
   "metadata": {},
   "outputs": [],
   "source": [
    "duration_rate.columns = ['very-long-time','long-time','medium-time']\n",
    "duration_rate.index = ['0','30','365']"
   ]
  },
  {
   "cell_type": "code",
   "execution_count": 62,
   "metadata": {},
   "outputs": [],
   "source": [
    "duration_rate = duration_rate[['medium-time','long-time','very-long-time']]\n",
    "duration_rate.insert(0,'short-time',series4.values)"
   ]
  },
  {
   "cell_type": "code",
   "execution_count": 63,
   "metadata": {},
   "outputs": [
    {
     "data": {
      "text/plain": "     short-time  medium-time  long-time  very-long-time\n0      0.297862     0.756214   0.671186        0.808765\n30     0.628979     0.195867   0.288136        0.141434\n365    0.073159     0.047919   0.040678        0.049801",
      "text/html": "<div>\n<style scoped>\n    .dataframe tbody tr th:only-of-type {\n        vertical-align: middle;\n    }\n\n    .dataframe tbody tr th {\n        vertical-align: top;\n    }\n\n    .dataframe thead th {\n        text-align: right;\n    }\n</style>\n<table border=\"1\" class=\"dataframe\">\n  <thead>\n    <tr style=\"text-align: right;\">\n      <th></th>\n      <th>short-time</th>\n      <th>medium-time</th>\n      <th>long-time</th>\n      <th>very-long-time</th>\n    </tr>\n  </thead>\n  <tbody>\n    <tr>\n      <th>0</th>\n      <td>0.297862</td>\n      <td>0.756214</td>\n      <td>0.671186</td>\n      <td>0.808765</td>\n    </tr>\n    <tr>\n      <th>30</th>\n      <td>0.628979</td>\n      <td>0.195867</td>\n      <td>0.288136</td>\n      <td>0.141434</td>\n    </tr>\n    <tr>\n      <th>365</th>\n      <td>0.073159</td>\n      <td>0.047919</td>\n      <td>0.040678</td>\n      <td>0.049801</td>\n    </tr>\n  </tbody>\n</table>\n</div>"
     },
     "execution_count": 63,
     "metadata": {},
     "output_type": "execute_result"
    }
   ],
   "source": [
    "duration_rate"
   ]
  },
  {
   "cell_type": "code",
   "execution_count": 94,
   "metadata": {},
   "outputs": [
    {
     "data": {
      "text/plain": "'D:\\\\homework\\\\LA-Metro-Bike-Share-Analysis-master\\\\LA-Metro-Bike-Share-Analysis-master\\\\duration-rate-radar.html'"
     },
     "execution_count": 94,
     "metadata": {},
     "output_type": "execute_result"
    }
   ],
   "source": [
    "# from pyecharts import Radar\n",
    "#\n",
    "# schema = [(\"0\",0.81), (\"30\", 0.63), (\"365\", 0.08)]\n",
    "# v1 = [duration_rate['short-time'].values.round(2)]\n",
    "# v2 = [duration_rate['medium-time'].values.round(2)]\n",
    "# v3 = [duration_rate['long-time'].values.round(2)]\n",
    "# v4 = [duration_rate['very-long-time'].values.round(2)]\n",
    "#\n",
    "# radar = Radar(\"Radar chart\")\n",
    "# radar.config(schema)\n",
    "# radar.add(\"short-time\", v1, is_splitline=True, is_axisline_show=True)\n",
    "# radar.add(\"medium-time\", v2, is_area_show=False, legend_selectedmode='single')\n",
    "# radar.add(\"long-time\", v3, is_area_show=False, legend_selectedmode='single')\n",
    "# radar.add(\"very-long-time\", v4, is_area_show=False, legend_selectedmode='single')\n",
    "#\n",
    "# radar.render('Radar-chart.html')\n",
    "# radar\n",
    "\n",
    "from pyecharts.charts import Radar\n",
    "from pyecharts import options as opts\n",
    "\n",
    "schema = [(\"0\", 0.81), (\"30\", 0.63), (\"365\", 0.08)]\n",
    "v1 = [duration_rate['short-time'].values.round(2).tolist()]\n",
    "v2 = [duration_rate['medium-time'].values.round(2).tolist()]\n",
    "\n",
    "radar = Radar(init_opts=opts.InitOpts(width='1000px', height='400px'))\n",
    "radar.add_schema(schema=schema, shape='circle')\n",
    "radar.add(\"Short Time\", v1)\n",
    "radar.add(\"Medium Time\", v2)\n",
    "radar.set_series_opts(label_opts=opts.LabelOpts(is_show=False))\n",
    "radar.set_global_opts(title_opts=opts.TitleOpts(title='Duration Rate Analysis'))\n",
    "\n",
    "radar.render('duration-rate-radar.html')\n"
   ]
  },
  {
   "cell_type": "markdown",
   "metadata": {},
   "source": [
    "### Conclusion"
   ]
  },
  {
   "cell_type": "markdown",
   "metadata": {},
   "source": [
    "- 共享单车使用使用时间**特别长**的用户中**绝大部分使用者**是**即用即走型用户**\n",
    "- **短途**共享单车使用者中**超过6成比例**为**月卡持有者**\n",
    "- 其次，**短途**共享单车使用者中的**年卡持有者**的比例也是所有类型中**最高的**"
   ]
  },
  {
   "cell_type": "markdown",
   "metadata": {},
   "source": [
    "- The **majority** of users who use shared-bikes for a **very-long-time** are those who use them **immediately**.\n",
    "- **Over 60%** of users who use shared-bikes for a **short-time** are those who possess **Monthly-Pass**.\n",
    "-  The percentage of those who possess Flex-Pass among **short-time trip** bike users is also the **highest among all types**."
   ]
  },
  {
   "cell_type": "markdown",
   "metadata": {},
   "source": [
    "---"
   ]
  },
  {
   "cell_type": "markdown",
   "metadata": {},
   "source": [
    "## 4）单程与往返的比较分析(Round Trip/One Way Comparison Analysis)"
   ]
  },
  {
   "cell_type": "code",
   "execution_count": 57,
   "metadata": {},
   "outputs": [
    {
     "data": {
      "text/html": [
       "<div>\n",
       "<style scoped>\n",
       "    .dataframe tbody tr th:only-of-type {\n",
       "        vertical-align: middle;\n",
       "    }\n",
       "\n",
       "    .dataframe tbody tr th {\n",
       "        vertical-align: top;\n",
       "    }\n",
       "\n",
       "    .dataframe thead th {\n",
       "        text-align: right;\n",
       "    }\n",
       "</style>\n",
       "<table border=\"1\" class=\"dataframe\">\n",
       "  <thead>\n",
       "    <tr style=\"text-align: right;\">\n",
       "      <th></th>\n",
       "      <th>Duration</th>\n",
       "      <th>Start Time</th>\n",
       "      <th>End Time</th>\n",
       "      <th>Start Hour</th>\n",
       "      <th>Trip Route Category</th>\n",
       "      <th>Plan Duration</th>\n",
       "      <th>Passholder Type</th>\n",
       "    </tr>\n",
       "  </thead>\n",
       "  <tbody>\n",
       "    <tr>\n",
       "      <th>0</th>\n",
       "      <td>180</td>\n",
       "      <td>2016-07-07T04:17:00</td>\n",
       "      <td>2016-07-07T04:20:00</td>\n",
       "      <td>04</td>\n",
       "      <td>Round Trip</td>\n",
       "      <td>30.0</td>\n",
       "      <td>Monthly Pass</td>\n",
       "    </tr>\n",
       "    <tr>\n",
       "      <th>1</th>\n",
       "      <td>1980</td>\n",
       "      <td>2016-07-07T06:00:00</td>\n",
       "      <td>2016-07-07T06:33:00</td>\n",
       "      <td>06</td>\n",
       "      <td>Round Trip</td>\n",
       "      <td>30.0</td>\n",
       "      <td>Monthly Pass</td>\n",
       "    </tr>\n",
       "    <tr>\n",
       "      <th>2</th>\n",
       "      <td>300</td>\n",
       "      <td>2016-07-07T10:32:00</td>\n",
       "      <td>2016-07-07T10:37:00</td>\n",
       "      <td>10</td>\n",
       "      <td>Round Trip</td>\n",
       "      <td>365.0</td>\n",
       "      <td>Flex Pass</td>\n",
       "    </tr>\n",
       "    <tr>\n",
       "      <th>3</th>\n",
       "      <td>10860</td>\n",
       "      <td>2016-07-07T10:37:00</td>\n",
       "      <td>2016-07-07T13:38:00</td>\n",
       "      <td>10</td>\n",
       "      <td>Round Trip</td>\n",
       "      <td>365.0</td>\n",
       "      <td>Flex Pass</td>\n",
       "    </tr>\n",
       "    <tr>\n",
       "      <th>4</th>\n",
       "      <td>420</td>\n",
       "      <td>2016-07-07T12:51:00</td>\n",
       "      <td>2016-07-07T12:58:00</td>\n",
       "      <td>12</td>\n",
       "      <td>Round Trip</td>\n",
       "      <td>0.0</td>\n",
       "      <td>Walk-up</td>\n",
       "    </tr>\n",
       "  </tbody>\n",
       "</table>\n",
       "</div>"
      ],
      "text/plain": [
       "   Duration           Start Time             End Time Start Hour  \\\n",
       "0       180  2016-07-07T04:17:00  2016-07-07T04:20:00         04   \n",
       "1      1980  2016-07-07T06:00:00  2016-07-07T06:33:00         06   \n",
       "2       300  2016-07-07T10:32:00  2016-07-07T10:37:00         10   \n",
       "3     10860  2016-07-07T10:37:00  2016-07-07T13:38:00         10   \n",
       "4       420  2016-07-07T12:51:00  2016-07-07T12:58:00         12   \n",
       "\n",
       "  Trip Route Category  Plan Duration Passholder Type  \n",
       "0          Round Trip           30.0    Monthly Pass  \n",
       "1          Round Trip           30.0    Monthly Pass  \n",
       "2          Round Trip          365.0       Flex Pass  \n",
       "3          Round Trip          365.0       Flex Pass  \n",
       "4          Round Trip            0.0         Walk-up  "
      ]
     },
     "execution_count": 57,
     "metadata": {},
     "output_type": "execute_result"
    }
   ],
   "source": [
    "bike_info.head()"
   ]
  },
  {
   "cell_type": "markdown",
   "metadata": {},
   "source": [
    "### 划分出单程与往返的frame(Divide the 'Round Trip'&'One Way')"
   ]
  },
  {
   "cell_type": "code",
   "execution_count": 66,
   "metadata": {},
   "outputs": [],
   "source": [
    "one_way_trip = bike_info[bike_info['Trip Route Category']=='One Way']\n",
    "round_trip = bike_info[bike_info['Trip Route Category']=='Round Trip']"
   ]
  },
  {
   "cell_type": "code",
   "execution_count": 67,
   "metadata": {},
   "outputs": [
    {
     "data": {
      "text/plain": "    Duration           Start Time             End Time Start Hour  \\\n5        780  2016-07-07T12:51:00  2016-07-07T13:04:00         12   \n6        600  2016-07-07T12:54:00  2016-07-07T13:04:00         12   \n7        600  2016-07-07T12:59:00  2016-07-07T13:09:00         12   \n9        960  2016-07-07T13:01:00  2016-07-07T13:17:00         13   \n10       960  2016-07-07T13:02:00  2016-07-07T13:18:00         13   \n\n   Trip Route Category  Plan Duration Passholder Type  \n5              One Way           30.0    Monthly Pass  \n6              One Way           30.0    Monthly Pass  \n7              One Way          365.0       Flex Pass  \n9              One Way           30.0    Monthly Pass  \n10             One Way          365.0       Flex Pass  ",
      "text/html": "<div>\n<style scoped>\n    .dataframe tbody tr th:only-of-type {\n        vertical-align: middle;\n    }\n\n    .dataframe tbody tr th {\n        vertical-align: top;\n    }\n\n    .dataframe thead th {\n        text-align: right;\n    }\n</style>\n<table border=\"1\" class=\"dataframe\">\n  <thead>\n    <tr style=\"text-align: right;\">\n      <th></th>\n      <th>Duration</th>\n      <th>Start Time</th>\n      <th>End Time</th>\n      <th>Start Hour</th>\n      <th>Trip Route Category</th>\n      <th>Plan Duration</th>\n      <th>Passholder Type</th>\n    </tr>\n  </thead>\n  <tbody>\n    <tr>\n      <th>5</th>\n      <td>780</td>\n      <td>2016-07-07T12:51:00</td>\n      <td>2016-07-07T13:04:00</td>\n      <td>12</td>\n      <td>One Way</td>\n      <td>30.0</td>\n      <td>Monthly Pass</td>\n    </tr>\n    <tr>\n      <th>6</th>\n      <td>600</td>\n      <td>2016-07-07T12:54:00</td>\n      <td>2016-07-07T13:04:00</td>\n      <td>12</td>\n      <td>One Way</td>\n      <td>30.0</td>\n      <td>Monthly Pass</td>\n    </tr>\n    <tr>\n      <th>7</th>\n      <td>600</td>\n      <td>2016-07-07T12:59:00</td>\n      <td>2016-07-07T13:09:00</td>\n      <td>12</td>\n      <td>One Way</td>\n      <td>365.0</td>\n      <td>Flex Pass</td>\n    </tr>\n    <tr>\n      <th>9</th>\n      <td>960</td>\n      <td>2016-07-07T13:01:00</td>\n      <td>2016-07-07T13:17:00</td>\n      <td>13</td>\n      <td>One Way</td>\n      <td>30.0</td>\n      <td>Monthly Pass</td>\n    </tr>\n    <tr>\n      <th>10</th>\n      <td>960</td>\n      <td>2016-07-07T13:02:00</td>\n      <td>2016-07-07T13:18:00</td>\n      <td>13</td>\n      <td>One Way</td>\n      <td>365.0</td>\n      <td>Flex Pass</td>\n    </tr>\n  </tbody>\n</table>\n</div>"
     },
     "execution_count": 67,
     "metadata": {},
     "output_type": "execute_result"
    }
   ],
   "source": [
    "one_way_trip.head()"
   ]
  },
  {
   "cell_type": "code",
   "execution_count": 68,
   "metadata": {},
   "outputs": [
    {
     "data": {
      "text/plain": "   Duration           Start Time             End Time Start Hour  \\\n0       180  2016-07-07T04:17:00  2016-07-07T04:20:00         04   \n1      1980  2016-07-07T06:00:00  2016-07-07T06:33:00         06   \n2       300  2016-07-07T10:32:00  2016-07-07T10:37:00         10   \n3     10860  2016-07-07T10:37:00  2016-07-07T13:38:00         10   \n4       420  2016-07-07T12:51:00  2016-07-07T12:58:00         12   \n\n  Trip Route Category  Plan Duration Passholder Type  \n0          Round Trip           30.0    Monthly Pass  \n1          Round Trip           30.0    Monthly Pass  \n2          Round Trip          365.0       Flex Pass  \n3          Round Trip          365.0       Flex Pass  \n4          Round Trip            0.0         Walk-up  ",
      "text/html": "<div>\n<style scoped>\n    .dataframe tbody tr th:only-of-type {\n        vertical-align: middle;\n    }\n\n    .dataframe tbody tr th {\n        vertical-align: top;\n    }\n\n    .dataframe thead th {\n        text-align: right;\n    }\n</style>\n<table border=\"1\" class=\"dataframe\">\n  <thead>\n    <tr style=\"text-align: right;\">\n      <th></th>\n      <th>Duration</th>\n      <th>Start Time</th>\n      <th>End Time</th>\n      <th>Start Hour</th>\n      <th>Trip Route Category</th>\n      <th>Plan Duration</th>\n      <th>Passholder Type</th>\n    </tr>\n  </thead>\n  <tbody>\n    <tr>\n      <th>0</th>\n      <td>180</td>\n      <td>2016-07-07T04:17:00</td>\n      <td>2016-07-07T04:20:00</td>\n      <td>04</td>\n      <td>Round Trip</td>\n      <td>30.0</td>\n      <td>Monthly Pass</td>\n    </tr>\n    <tr>\n      <th>1</th>\n      <td>1980</td>\n      <td>2016-07-07T06:00:00</td>\n      <td>2016-07-07T06:33:00</td>\n      <td>06</td>\n      <td>Round Trip</td>\n      <td>30.0</td>\n      <td>Monthly Pass</td>\n    </tr>\n    <tr>\n      <th>2</th>\n      <td>300</td>\n      <td>2016-07-07T10:32:00</td>\n      <td>2016-07-07T10:37:00</td>\n      <td>10</td>\n      <td>Round Trip</td>\n      <td>365.0</td>\n      <td>Flex Pass</td>\n    </tr>\n    <tr>\n      <th>3</th>\n      <td>10860</td>\n      <td>2016-07-07T10:37:00</td>\n      <td>2016-07-07T13:38:00</td>\n      <td>10</td>\n      <td>Round Trip</td>\n      <td>365.0</td>\n      <td>Flex Pass</td>\n    </tr>\n    <tr>\n      <th>4</th>\n      <td>420</td>\n      <td>2016-07-07T12:51:00</td>\n      <td>2016-07-07T12:58:00</td>\n      <td>12</td>\n      <td>Round Trip</td>\n      <td>0.0</td>\n      <td>Walk-up</td>\n    </tr>\n  </tbody>\n</table>\n</div>"
     },
     "execution_count": 68,
     "metadata": {},
     "output_type": "execute_result"
    }
   ],
   "source": [
    "round_trip.head()"
   ]
  },
  {
   "cell_type": "markdown",
   "metadata": {},
   "source": [
    "### 分析One Way与Round出发时间点"
   ]
  },
  {
   "cell_type": "code",
   "execution_count": 69,
   "metadata": {},
   "outputs": [],
   "source": [
    "one_way_hour = one_way_trip['Start Hour'].value_counts().sort_index()\n",
    "round_hour = round_trip['Start Hour'].value_counts().sort_index()"
   ]
  },
  {
   "cell_type": "code",
   "execution_count": 96,
   "metadata": {},
   "outputs": [
    {
     "data": {
      "text/plain": "'D:\\\\homework\\\\LA-Metro-Bike-Share-Analysis-master\\\\LA-Metro-Bike-Share-Analysis-master\\\\出发时间点分析.html'"
     },
     "execution_count": 96,
     "metadata": {},
     "output_type": "execute_result"
    }
   ],
   "source": [
    "# from pyecharts.charts import Line\n",
    "#\n",
    "# x1 =list(map(int, one_way_hour.index))\n",
    "# y1 =  one_way_hour.values\n",
    "#\n",
    "# x2 = list(map(int, round_hour.index))\n",
    "# y2 = round_hour.values\n",
    "#\n",
    "# line = Line(\"单程/往返出发时间点分析\")\n",
    "# line.add(\"one way\", x1, y1,mark_point=[\"max\"],is_smooth=True)\n",
    "# line.add(\"round\", x2, y2,mark_point=[\"max\"],is_smooth=True)\n",
    "#\n",
    "# line.render('出发时间点分析.html')\n",
    "# line\n",
    "from pyecharts.charts import Line\n",
    "from pyecharts import options as opts\n",
    "\n",
    "x1 = list(map(int, one_way_hour.index))\n",
    "y1 = one_way_hour.values.tolist()\n",
    "\n",
    "x2 = list(map(int, round_hour.index))\n",
    "y2 = round_hour.values.tolist()\n",
    "\n",
    "line = Line(init_opts=opts.InitOpts(width='1000px', height='400px'))\n",
    "line.add_xaxis(x1)\n",
    "line.add_yaxis(\"one way\", y1, markpoint_opts=opts.MarkPointOpts(data=[opts.MarkPointItem(type_='max')]))\n",
    "line.add_yaxis(\"round\", y2, markpoint_opts=opts.MarkPointOpts(data=[opts.MarkPointItem(type_='max')]))\n",
    "line.set_global_opts(title_opts=opts.TitleOpts(title='One-way/round-trip departure time analysis'))\n",
    "\n",
    "line.render('departure_time_analysis.html')\n"
   ]
  },
  {
   "cell_type": "markdown",
   "metadata": {},
   "source": [
    "### 分析One Way与Round中不同会员卡持有者比例"
   ]
  },
  {
   "cell_type": "code",
   "execution_count": 73,
   "metadata": {},
   "outputs": [],
   "source": [
    "oneway_rate = one_way_trip['Passholder Type'].value_counts()/sum(one_way_trip['Passholder Type'].value_counts())\n",
    "#oneway_rate"
   ]
  },
  {
   "cell_type": "code",
   "execution_count": 74,
   "metadata": {},
   "outputs": [],
   "source": [
    "round_rate = round_trip['Passholder Type'].value_counts()/sum(round_trip['Passholder Type'].value_counts())"
   ]
  },
  {
   "cell_type": "code",
   "execution_count": 77,
   "metadata": {},
   "outputs": [
    {
     "data": {
      "text/plain": "'D:\\\\homework\\\\LA-Metro-Bike-Share-Analysis-master\\\\LA-Metro-Bike-Share-Analysis-master\\\\One-way-pie.html'"
     },
     "execution_count": 77,
     "metadata": {},
     "output_type": "execute_result"
    }
   ],
   "source": [
    "from pyecharts.charts import Pie\n",
    "from pyecharts import options as opts\n",
    "\n",
    "attr1 = oneway_rate.index.tolist()\n",
    "v1 = oneway_rate.values.tolist()\n",
    "\n",
    "pie1 = Pie(init_opts=opts.InitOpts(width='1000px', height='400px'))\n",
    "pie1.add(\"\", [list(z) for z in zip(attr1, v1)], radius=[\"30%\", \"75%\"])\n",
    "pie1.set_global_opts(title_opts=opts.TitleOpts(title=\"One Way\"))\n",
    "pie1.set_series_opts(label_opts=opts.LabelOpts(formatter=\"{b}: {c}\"))\n",
    "\n",
    "pie1.render('One-way-pie.html')\n"
   ]
  },
  {
   "cell_type": "code",
   "execution_count": 79,
   "metadata": {},
   "outputs": [
    {
     "data": {
      "text/plain": "'D:\\\\homework\\\\LA-Metro-Bike-Share-Analysis-master\\\\LA-Metro-Bike-Share-Analysis-master\\\\Round-pie.html'"
     },
     "execution_count": 79,
     "metadata": {},
     "output_type": "execute_result"
    }
   ],
   "source": [
    "from pyecharts.charts import Pie\n",
    "from pyecharts import options as opts\n",
    "\n",
    "attr2 = round_rate.index.tolist()\n",
    "v2 = round_rate.values.tolist()\n",
    "\n",
    "pie2 = Pie(init_opts=opts.InitOpts(width='1000px', height='400px'))\n",
    "pie2.add(\"\", [list(z) for z in zip(attr2, v2)], radius=[\"30%\", \"75%\"])\n",
    "pie2.set_global_opts(title_opts=opts.TitleOpts(title=\"Round\"))\n",
    "pie2.set_series_opts(label_opts=opts.LabelOpts(formatter=\"{b}: {c}\"))\n",
    "\n",
    "pie2.render('Round-pie.html')\n"
   ]
  },
  {
   "cell_type": "markdown",
   "metadata": {},
   "source": [
    "### Conclusion"
   ]
  },
  {
   "cell_type": "markdown",
   "metadata": {},
   "source": [
    "- One Way Trip的共享单车使用者持有会员卡的比例**很大**，占了**超过70%**，其中绝大部分是**月卡持有者**。\n",
    "- Round Trip的共享单车使用者大部分是**即来即走型**使用者，仅有**三成**用户持有会员卡，持有会员卡的用户中大部分为**月卡持有者**。"
   ]
  },
  {
   "cell_type": "markdown",
   "metadata": {},
   "source": [
    "---"
   ]
  },
  {
   "cell_type": "markdown",
   "metadata": {},
   "source": [
    "### 分析One Way与Round与共享单车使用时长的关系"
   ]
  },
  {
   "cell_type": "code",
   "execution_count": 80,
   "metadata": {},
   "outputs": [
    {
     "data": {
      "text/plain": "   Duration Trip Route Category\n0       180          Round Trip\n1      1980          Round Trip\n2       300          Round Trip\n3     10860          Round Trip\n4       420          Round Trip",
      "text/html": "<div>\n<style scoped>\n    .dataframe tbody tr th:only-of-type {\n        vertical-align: middle;\n    }\n\n    .dataframe tbody tr th {\n        vertical-align: top;\n    }\n\n    .dataframe thead th {\n        text-align: right;\n    }\n</style>\n<table border=\"1\" class=\"dataframe\">\n  <thead>\n    <tr style=\"text-align: right;\">\n      <th></th>\n      <th>Duration</th>\n      <th>Trip Route Category</th>\n    </tr>\n  </thead>\n  <tbody>\n    <tr>\n      <th>0</th>\n      <td>180</td>\n      <td>Round Trip</td>\n    </tr>\n    <tr>\n      <th>1</th>\n      <td>1980</td>\n      <td>Round Trip</td>\n    </tr>\n    <tr>\n      <th>2</th>\n      <td>300</td>\n      <td>Round Trip</td>\n    </tr>\n    <tr>\n      <th>3</th>\n      <td>10860</td>\n      <td>Round Trip</td>\n    </tr>\n    <tr>\n      <th>4</th>\n      <td>420</td>\n      <td>Round Trip</td>\n    </tr>\n  </tbody>\n</table>\n</div>"
     },
     "execution_count": 80,
     "metadata": {},
     "output_type": "execute_result"
    }
   ],
   "source": [
    "duration_cate_info = bike_info[['Duration','Trip Route Category']]\n",
    "duration_cate_info.head()"
   ]
  },
  {
   "cell_type": "code",
   "execution_count": 81,
   "metadata": {},
   "outputs": [],
   "source": [
    "one_way_duration = duration_cate_info[duration_cate_info['Trip Route Category']=='One Way']\n",
    "#one_way_duration\n",
    "round_duration = duration_cate_info[duration_cate_info['Trip Route Category']=='Round Trip']"
   ]
  },
  {
   "cell_type": "code",
   "execution_count": 82,
   "metadata": {},
   "outputs": [],
   "source": [
    "tmp_frame1 = one_way_duration.describe()\n",
    "tmp_frame2 = round_duration.describe()\n",
    "tmp_frame1.columns = ['One Way']\n",
    "tmp_frame2.columns = ['Round']"
   ]
  },
  {
   "cell_type": "markdown",
   "metadata": {},
   "source": [
    "输出describe信息"
   ]
  },
  {
   "cell_type": "code",
   "execution_count": 83,
   "metadata": {},
   "outputs": [
    {
     "data": {
      "text/plain": "             One Way         Round\ncount  119026.000000  12635.000000\nmean     1358.870499   3299.287693\nstd      5490.783118   7738.171315\nmin        60.000000     60.000000\n25%       360.000000    900.000000\n50%       600.000000   1680.000000\n75%       960.000000   3180.000000\nmax     86400.000000  86400.000000",
      "text/html": "<div>\n<style scoped>\n    .dataframe tbody tr th:only-of-type {\n        vertical-align: middle;\n    }\n\n    .dataframe tbody tr th {\n        vertical-align: top;\n    }\n\n    .dataframe thead th {\n        text-align: right;\n    }\n</style>\n<table border=\"1\" class=\"dataframe\">\n  <thead>\n    <tr style=\"text-align: right;\">\n      <th></th>\n      <th>One Way</th>\n      <th>Round</th>\n    </tr>\n  </thead>\n  <tbody>\n    <tr>\n      <th>count</th>\n      <td>119026.000000</td>\n      <td>12635.000000</td>\n    </tr>\n    <tr>\n      <th>mean</th>\n      <td>1358.870499</td>\n      <td>3299.287693</td>\n    </tr>\n    <tr>\n      <th>std</th>\n      <td>5490.783118</td>\n      <td>7738.171315</td>\n    </tr>\n    <tr>\n      <th>min</th>\n      <td>60.000000</td>\n      <td>60.000000</td>\n    </tr>\n    <tr>\n      <th>25%</th>\n      <td>360.000000</td>\n      <td>900.000000</td>\n    </tr>\n    <tr>\n      <th>50%</th>\n      <td>600.000000</td>\n      <td>1680.000000</td>\n    </tr>\n    <tr>\n      <th>75%</th>\n      <td>960.000000</td>\n      <td>3180.000000</td>\n    </tr>\n    <tr>\n      <th>max</th>\n      <td>86400.000000</td>\n      <td>86400.000000</td>\n    </tr>\n  </tbody>\n</table>\n</div>"
     },
     "execution_count": 83,
     "metadata": {},
     "output_type": "execute_result"
    }
   ],
   "source": [
    "tmp_frame1.join(tmp_frame2) #合并两个frame"
   ]
  },
  {
   "cell_type": "markdown",
   "metadata": {},
   "source": [
    "### Conclusion"
   ]
  },
  {
   "cell_type": "markdown",
   "metadata": {},
   "source": [
    "- 根据上表中**均值**，**中位数**，**上下四分位点**可以显然得知**Round Trip**单车使用时长往往大于**One Way Trip**的使用时长，符合认知。"
   ]
  },
  {
   "cell_type": "markdown",
   "metadata": {},
   "source": [
    "---"
   ]
  }
 ],
 "metadata": {
  "kernelspec": {
   "display_name": "Python 3 (ipykernel)",
   "language": "python",
   "name": "python3"
  },
  "language_info": {
   "codemirror_mode": {
    "name": "ipython",
    "version": 3
   },
   "file_extension": ".py",
   "mimetype": "text/x-python",
   "name": "python",
   "nbconvert_exporter": "python",
   "pygments_lexer": "ipython3",
   "version": "3.9.13"
  }
 },
 "nbformat": 4,
 "nbformat_minor": 2
}
